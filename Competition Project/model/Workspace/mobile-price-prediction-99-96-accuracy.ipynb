{
 "cells": [
  {
   "cell_type": "code",
   "execution_count": 1,
   "id": "0439f973",
   "metadata": {
    "_cell_guid": "b1076dfc-b9ad-4769-8c92-a6c4dae69d19",
    "_uuid": "8f2839f25d086af736a60e9eeb907d3b93b6e0e5",
    "execution": {
     "iopub.execute_input": "2022-08-24T06:04:37.036300Z",
     "iopub.status.busy": "2022-08-24T06:04:37.035848Z",
     "iopub.status.idle": "2022-08-24T06:04:37.060587Z",
     "shell.execute_reply": "2022-08-24T06:04:37.059749Z"
    },
    "papermill": {
     "duration": 0.041182,
     "end_time": "2022-08-24T06:04:37.064092",
     "exception": false,
     "start_time": "2022-08-24T06:04:37.022910",
     "status": "completed"
    },
    "tags": []
   },
   "outputs": [
    {
     "name": "stdout",
     "output_type": "stream",
     "text": [
      "/kaggle/input/mobile-price-prediction/Cellphone.csv\n",
      "/kaggle/input/mobile-price-prediction/Cellphone.xlsx\n"
     ]
    }
   ],
   "source": [
    "# This Python 3 environment comes with many helpful analytics libraries installed\n",
    "# It is defined by the kaggle/python Docker image: https://github.com/kaggle/docker-python\n",
    "# For example, here's several helpful packages to load\n",
    "\n",
    "import numpy as np # linear algebra\n",
    "import pandas as pd # data processing, CSV file I/O (e.g. pd.read_csv)\n",
    "\n",
    "# Input data files are available in the read-only \"../input/\" directory\n",
    "# For example, running this (by clicking run or pressing Shift+Enter) will list all files under the input directory\n",
    "\n",
    "import os\n",
    "for dirname, _, filenames in os.walk('/kaggle/input'):\n",
    "    for filename in filenames:\n",
    "        print(os.path.join(dirname, filename))\n",
    "\n",
    "# You can write up to 20GB to the current directory (/kaggle/working/) that gets preserved as output when you create a version using \"Save & Run All\" \n",
    "# You can also write temporary files to /kaggle/temp/, but they won't be saved outside of the current session"
   ]
  },
  {
   "cell_type": "markdown",
   "id": "1abd13cf",
   "metadata": {
    "papermill": {
     "duration": 0.012086,
     "end_time": "2022-08-24T06:04:37.086847",
     "exception": false,
     "start_time": "2022-08-24T06:04:37.074761",
     "status": "completed"
    },
    "tags": []
   },
   "source": [
    "# Importing Libraries"
   ]
  },
  {
   "cell_type": "code",
   "execution_count": 2,
   "id": "dcb39a67",
   "metadata": {
    "execution": {
     "iopub.execute_input": "2022-08-24T06:04:37.112198Z",
     "iopub.status.busy": "2022-08-24T06:04:37.111803Z",
     "iopub.status.idle": "2022-08-24T06:04:38.187063Z",
     "shell.execute_reply": "2022-08-24T06:04:38.185832Z"
    },
    "papermill": {
     "duration": 1.091045,
     "end_time": "2022-08-24T06:04:38.189874",
     "exception": false,
     "start_time": "2022-08-24T06:04:37.098829",
     "status": "completed"
    },
    "tags": []
   },
   "outputs": [],
   "source": [
    "import matplotlib.pyplot as plt\n",
    "import seaborn as sns\n",
    "%matplotlib inline\n",
    "import warnings\n",
    "warnings.filterwarnings('ignore')"
   ]
  },
  {
   "cell_type": "code",
   "execution_count": 3,
   "id": "b7a85656",
   "metadata": {
    "execution": {
     "iopub.execute_input": "2022-08-24T06:04:38.211046Z",
     "iopub.status.busy": "2022-08-24T06:04:38.210634Z",
     "iopub.status.idle": "2022-08-24T06:04:38.225530Z",
     "shell.execute_reply": "2022-08-24T06:04:38.224375Z"
    },
    "papermill": {
     "duration": 0.028487,
     "end_time": "2022-08-24T06:04:38.228270",
     "exception": false,
     "start_time": "2022-08-24T06:04:38.199783",
     "status": "completed"
    },
    "tags": []
   },
   "outputs": [],
   "source": [
    "df = pd.read_csv('../input/mobile-price-prediction/Cellphone.csv')"
   ]
  },
  {
   "cell_type": "code",
   "execution_count": 4,
   "id": "952f8273",
   "metadata": {
    "execution": {
     "iopub.execute_input": "2022-08-24T06:04:38.251233Z",
     "iopub.status.busy": "2022-08-24T06:04:38.249980Z",
     "iopub.status.idle": "2022-08-24T06:04:38.276939Z",
     "shell.execute_reply": "2022-08-24T06:04:38.275802Z"
    },
    "papermill": {
     "duration": 0.040191,
     "end_time": "2022-08-24T06:04:38.279319",
     "exception": false,
     "start_time": "2022-08-24T06:04:38.239128",
     "status": "completed"
    },
    "tags": []
   },
   "outputs": [
    {
     "data": {
      "text/html": [
       "<div>\n",
       "<style scoped>\n",
       "    .dataframe tbody tr th:only-of-type {\n",
       "        vertical-align: middle;\n",
       "    }\n",
       "\n",
       "    .dataframe tbody tr th {\n",
       "        vertical-align: top;\n",
       "    }\n",
       "\n",
       "    .dataframe thead th {\n",
       "        text-align: right;\n",
       "    }\n",
       "</style>\n",
       "<table border=\"1\" class=\"dataframe\">\n",
       "  <thead>\n",
       "    <tr style=\"text-align: right;\">\n",
       "      <th></th>\n",
       "      <th>Product_id</th>\n",
       "      <th>Price</th>\n",
       "      <th>Sale</th>\n",
       "      <th>weight</th>\n",
       "      <th>resoloution</th>\n",
       "      <th>ppi</th>\n",
       "      <th>cpu core</th>\n",
       "      <th>cpu freq</th>\n",
       "      <th>internal mem</th>\n",
       "      <th>ram</th>\n",
       "      <th>RearCam</th>\n",
       "      <th>Front_Cam</th>\n",
       "      <th>battery</th>\n",
       "      <th>thickness</th>\n",
       "    </tr>\n",
       "  </thead>\n",
       "  <tbody>\n",
       "    <tr>\n",
       "      <th>0</th>\n",
       "      <td>203</td>\n",
       "      <td>2357</td>\n",
       "      <td>10</td>\n",
       "      <td>135.0</td>\n",
       "      <td>5.2</td>\n",
       "      <td>424</td>\n",
       "      <td>8</td>\n",
       "      <td>1.35</td>\n",
       "      <td>16.0</td>\n",
       "      <td>3.000</td>\n",
       "      <td>13.00</td>\n",
       "      <td>8.0</td>\n",
       "      <td>2610</td>\n",
       "      <td>7.4</td>\n",
       "    </tr>\n",
       "    <tr>\n",
       "      <th>1</th>\n",
       "      <td>880</td>\n",
       "      <td>1749</td>\n",
       "      <td>10</td>\n",
       "      <td>125.0</td>\n",
       "      <td>4.0</td>\n",
       "      <td>233</td>\n",
       "      <td>2</td>\n",
       "      <td>1.30</td>\n",
       "      <td>4.0</td>\n",
       "      <td>1.000</td>\n",
       "      <td>3.15</td>\n",
       "      <td>0.0</td>\n",
       "      <td>1700</td>\n",
       "      <td>9.9</td>\n",
       "    </tr>\n",
       "    <tr>\n",
       "      <th>2</th>\n",
       "      <td>40</td>\n",
       "      <td>1916</td>\n",
       "      <td>10</td>\n",
       "      <td>110.0</td>\n",
       "      <td>4.7</td>\n",
       "      <td>312</td>\n",
       "      <td>4</td>\n",
       "      <td>1.20</td>\n",
       "      <td>8.0</td>\n",
       "      <td>1.500</td>\n",
       "      <td>13.00</td>\n",
       "      <td>5.0</td>\n",
       "      <td>2000</td>\n",
       "      <td>7.6</td>\n",
       "    </tr>\n",
       "    <tr>\n",
       "      <th>3</th>\n",
       "      <td>99</td>\n",
       "      <td>1315</td>\n",
       "      <td>11</td>\n",
       "      <td>118.5</td>\n",
       "      <td>4.0</td>\n",
       "      <td>233</td>\n",
       "      <td>2</td>\n",
       "      <td>1.30</td>\n",
       "      <td>4.0</td>\n",
       "      <td>0.512</td>\n",
       "      <td>3.15</td>\n",
       "      <td>0.0</td>\n",
       "      <td>1400</td>\n",
       "      <td>11.0</td>\n",
       "    </tr>\n",
       "    <tr>\n",
       "      <th>4</th>\n",
       "      <td>880</td>\n",
       "      <td>1749</td>\n",
       "      <td>11</td>\n",
       "      <td>125.0</td>\n",
       "      <td>4.0</td>\n",
       "      <td>233</td>\n",
       "      <td>2</td>\n",
       "      <td>1.30</td>\n",
       "      <td>4.0</td>\n",
       "      <td>1.000</td>\n",
       "      <td>3.15</td>\n",
       "      <td>0.0</td>\n",
       "      <td>1700</td>\n",
       "      <td>9.9</td>\n",
       "    </tr>\n",
       "  </tbody>\n",
       "</table>\n",
       "</div>"
      ],
      "text/plain": [
       "   Product_id  Price  Sale  weight  resoloution  ppi  cpu core  cpu freq  \\\n",
       "0         203   2357    10   135.0          5.2  424         8      1.35   \n",
       "1         880   1749    10   125.0          4.0  233         2      1.30   \n",
       "2          40   1916    10   110.0          4.7  312         4      1.20   \n",
       "3          99   1315    11   118.5          4.0  233         2      1.30   \n",
       "4         880   1749    11   125.0          4.0  233         2      1.30   \n",
       "\n",
       "   internal mem    ram  RearCam  Front_Cam  battery  thickness  \n",
       "0          16.0  3.000    13.00        8.0     2610        7.4  \n",
       "1           4.0  1.000     3.15        0.0     1700        9.9  \n",
       "2           8.0  1.500    13.00        5.0     2000        7.6  \n",
       "3           4.0  0.512     3.15        0.0     1400       11.0  \n",
       "4           4.0  1.000     3.15        0.0     1700        9.9  "
      ]
     },
     "execution_count": 4,
     "metadata": {},
     "output_type": "execute_result"
    }
   ],
   "source": [
    "df.head()"
   ]
  },
  {
   "cell_type": "markdown",
   "id": "936188d5",
   "metadata": {
    "papermill": {
     "duration": 0.009585,
     "end_time": "2022-08-24T06:04:38.298999",
     "exception": false,
     "start_time": "2022-08-24T06:04:38.289414",
     "status": "completed"
    },
    "tags": []
   },
   "source": [
    "# Checking for Missing Values"
   ]
  },
  {
   "cell_type": "code",
   "execution_count": 5,
   "id": "df65700a",
   "metadata": {
    "execution": {
     "iopub.execute_input": "2022-08-24T06:04:38.322025Z",
     "iopub.status.busy": "2022-08-24T06:04:38.321321Z",
     "iopub.status.idle": "2022-08-24T06:04:38.334961Z",
     "shell.execute_reply": "2022-08-24T06:04:38.333774Z"
    },
    "papermill": {
     "duration": 0.028917,
     "end_time": "2022-08-24T06:04:38.337767",
     "exception": false,
     "start_time": "2022-08-24T06:04:38.308850",
     "status": "completed"
    },
    "tags": []
   },
   "outputs": [
    {
     "data": {
      "text/plain": [
       "Product_id      0\n",
       "Price           0\n",
       "Sale            0\n",
       "weight          0\n",
       "resoloution     0\n",
       "ppi             0\n",
       "cpu core        0\n",
       "cpu freq        0\n",
       "internal mem    0\n",
       "ram             0\n",
       "RearCam         0\n",
       "Front_Cam       0\n",
       "battery         0\n",
       "thickness       0\n",
       "dtype: int64"
      ]
     },
     "execution_count": 5,
     "metadata": {},
     "output_type": "execute_result"
    }
   ],
   "source": [
    "df.isnull().sum()"
   ]
  },
  {
   "cell_type": "markdown",
   "id": "0669c4d0",
   "metadata": {
    "papermill": {
     "duration": 0.010972,
     "end_time": "2022-08-24T06:04:38.358940",
     "exception": false,
     "start_time": "2022-08-24T06:04:38.347968",
     "status": "completed"
    },
    "tags": []
   },
   "source": [
    "# Checking for Duplicated Values"
   ]
  },
  {
   "cell_type": "code",
   "execution_count": 6,
   "id": "f41e75c4",
   "metadata": {
    "execution": {
     "iopub.execute_input": "2022-08-24T06:04:38.386201Z",
     "iopub.status.busy": "2022-08-24T06:04:38.385325Z",
     "iopub.status.idle": "2022-08-24T06:04:38.410444Z",
     "shell.execute_reply": "2022-08-24T06:04:38.409577Z"
    },
    "papermill": {
     "duration": 0.039423,
     "end_time": "2022-08-24T06:04:38.412886",
     "exception": false,
     "start_time": "2022-08-24T06:04:38.373463",
     "status": "completed"
    },
    "tags": []
   },
   "outputs": [
    {
     "data": {
      "text/html": [
       "<div>\n",
       "<style scoped>\n",
       "    .dataframe tbody tr th:only-of-type {\n",
       "        vertical-align: middle;\n",
       "    }\n",
       "\n",
       "    .dataframe tbody tr th {\n",
       "        vertical-align: top;\n",
       "    }\n",
       "\n",
       "    .dataframe thead th {\n",
       "        text-align: right;\n",
       "    }\n",
       "</style>\n",
       "<table border=\"1\" class=\"dataframe\">\n",
       "  <thead>\n",
       "    <tr style=\"text-align: right;\">\n",
       "      <th></th>\n",
       "      <th>Product_id</th>\n",
       "      <th>Price</th>\n",
       "      <th>Sale</th>\n",
       "      <th>weight</th>\n",
       "      <th>resoloution</th>\n",
       "      <th>ppi</th>\n",
       "      <th>cpu core</th>\n",
       "      <th>cpu freq</th>\n",
       "      <th>internal mem</th>\n",
       "      <th>ram</th>\n",
       "      <th>RearCam</th>\n",
       "      <th>Front_Cam</th>\n",
       "      <th>battery</th>\n",
       "      <th>thickness</th>\n",
       "    </tr>\n",
       "  </thead>\n",
       "  <tbody>\n",
       "  </tbody>\n",
       "</table>\n",
       "</div>"
      ],
      "text/plain": [
       "Empty DataFrame\n",
       "Columns: [Product_id, Price, Sale, weight, resoloution, ppi, cpu core, cpu freq, internal mem, ram, RearCam, Front_Cam, battery, thickness]\n",
       "Index: []"
      ]
     },
     "execution_count": 6,
     "metadata": {},
     "output_type": "execute_result"
    }
   ],
   "source": [
    "df[df.duplicated()]"
   ]
  },
  {
   "cell_type": "markdown",
   "id": "f72e8dde",
   "metadata": {
    "papermill": {
     "duration": 0.01058,
     "end_time": "2022-08-24T06:04:38.434225",
     "exception": false,
     "start_time": "2022-08-24T06:04:38.423645",
     "status": "completed"
    },
    "tags": []
   },
   "source": [
    "Removing the unwanted column 'Product_id'"
   ]
  },
  {
   "cell_type": "code",
   "execution_count": 7,
   "id": "3eda361f",
   "metadata": {
    "execution": {
     "iopub.execute_input": "2022-08-24T06:04:38.459942Z",
     "iopub.status.busy": "2022-08-24T06:04:38.459500Z",
     "iopub.status.idle": "2022-08-24T06:04:38.465864Z",
     "shell.execute_reply": "2022-08-24T06:04:38.464661Z"
    },
    "papermill": {
     "duration": 0.020752,
     "end_time": "2022-08-24T06:04:38.468569",
     "exception": false,
     "start_time": "2022-08-24T06:04:38.447817",
     "status": "completed"
    },
    "tags": []
   },
   "outputs": [],
   "source": [
    "df.drop('Product_id', inplace = True, axis = 1)"
   ]
  },
  {
   "cell_type": "markdown",
   "id": "d5cc48a7",
   "metadata": {
    "papermill": {
     "duration": 0.010196,
     "end_time": "2022-08-24T06:04:38.489188",
     "exception": false,
     "start_time": "2022-08-24T06:04:38.478992",
     "status": "completed"
    },
    "tags": []
   },
   "source": [
    "# Data Preprocessing"
   ]
  },
  {
   "cell_type": "code",
   "execution_count": 8,
   "id": "dbdce029",
   "metadata": {
    "execution": {
     "iopub.execute_input": "2022-08-24T06:04:38.512374Z",
     "iopub.status.busy": "2022-08-24T06:04:38.511937Z",
     "iopub.status.idle": "2022-08-24T06:04:38.563649Z",
     "shell.execute_reply": "2022-08-24T06:04:38.562363Z"
    },
    "papermill": {
     "duration": 0.066223,
     "end_time": "2022-08-24T06:04:38.566151",
     "exception": false,
     "start_time": "2022-08-24T06:04:38.499928",
     "status": "completed"
    },
    "tags": []
   },
   "outputs": [
    {
     "data": {
      "text/html": [
       "<div>\n",
       "<style scoped>\n",
       "    .dataframe tbody tr th:only-of-type {\n",
       "        vertical-align: middle;\n",
       "    }\n",
       "\n",
       "    .dataframe tbody tr th {\n",
       "        vertical-align: top;\n",
       "    }\n",
       "\n",
       "    .dataframe thead th {\n",
       "        text-align: right;\n",
       "    }\n",
       "</style>\n",
       "<table border=\"1\" class=\"dataframe\">\n",
       "  <thead>\n",
       "    <tr style=\"text-align: right;\">\n",
       "      <th></th>\n",
       "      <th>Price</th>\n",
       "      <th>Sale</th>\n",
       "      <th>weight</th>\n",
       "      <th>resoloution</th>\n",
       "      <th>ppi</th>\n",
       "      <th>cpu core</th>\n",
       "      <th>cpu freq</th>\n",
       "      <th>internal mem</th>\n",
       "      <th>ram</th>\n",
       "      <th>RearCam</th>\n",
       "      <th>Front_Cam</th>\n",
       "      <th>battery</th>\n",
       "      <th>thickness</th>\n",
       "    </tr>\n",
       "  </thead>\n",
       "  <tbody>\n",
       "    <tr>\n",
       "      <th>count</th>\n",
       "      <td>161.000000</td>\n",
       "      <td>161.000000</td>\n",
       "      <td>161.000000</td>\n",
       "      <td>161.000000</td>\n",
       "      <td>161.000000</td>\n",
       "      <td>161.000000</td>\n",
       "      <td>161.000000</td>\n",
       "      <td>161.000000</td>\n",
       "      <td>161.000000</td>\n",
       "      <td>161.000000</td>\n",
       "      <td>161.000000</td>\n",
       "      <td>161.000000</td>\n",
       "      <td>161.000000</td>\n",
       "    </tr>\n",
       "    <tr>\n",
       "      <th>mean</th>\n",
       "      <td>2215.596273</td>\n",
       "      <td>621.465839</td>\n",
       "      <td>170.426087</td>\n",
       "      <td>5.209938</td>\n",
       "      <td>335.055901</td>\n",
       "      <td>4.857143</td>\n",
       "      <td>1.502832</td>\n",
       "      <td>24.501714</td>\n",
       "      <td>2.204994</td>\n",
       "      <td>10.378261</td>\n",
       "      <td>4.503106</td>\n",
       "      <td>2842.111801</td>\n",
       "      <td>8.921739</td>\n",
       "    </tr>\n",
       "    <tr>\n",
       "      <th>std</th>\n",
       "      <td>768.187171</td>\n",
       "      <td>1546.618517</td>\n",
       "      <td>92.888612</td>\n",
       "      <td>1.509953</td>\n",
       "      <td>134.826659</td>\n",
       "      <td>2.444016</td>\n",
       "      <td>0.599783</td>\n",
       "      <td>28.804773</td>\n",
       "      <td>1.609831</td>\n",
       "      <td>6.181585</td>\n",
       "      <td>4.342053</td>\n",
       "      <td>1366.990838</td>\n",
       "      <td>2.192564</td>\n",
       "    </tr>\n",
       "    <tr>\n",
       "      <th>min</th>\n",
       "      <td>614.000000</td>\n",
       "      <td>10.000000</td>\n",
       "      <td>66.000000</td>\n",
       "      <td>1.400000</td>\n",
       "      <td>121.000000</td>\n",
       "      <td>0.000000</td>\n",
       "      <td>0.000000</td>\n",
       "      <td>0.000000</td>\n",
       "      <td>0.000000</td>\n",
       "      <td>0.000000</td>\n",
       "      <td>0.000000</td>\n",
       "      <td>800.000000</td>\n",
       "      <td>5.100000</td>\n",
       "    </tr>\n",
       "    <tr>\n",
       "      <th>25%</th>\n",
       "      <td>1734.000000</td>\n",
       "      <td>37.000000</td>\n",
       "      <td>134.100000</td>\n",
       "      <td>4.800000</td>\n",
       "      <td>233.000000</td>\n",
       "      <td>4.000000</td>\n",
       "      <td>1.200000</td>\n",
       "      <td>8.000000</td>\n",
       "      <td>1.000000</td>\n",
       "      <td>5.000000</td>\n",
       "      <td>0.000000</td>\n",
       "      <td>2040.000000</td>\n",
       "      <td>7.600000</td>\n",
       "    </tr>\n",
       "    <tr>\n",
       "      <th>50%</th>\n",
       "      <td>2258.000000</td>\n",
       "      <td>106.000000</td>\n",
       "      <td>153.000000</td>\n",
       "      <td>5.150000</td>\n",
       "      <td>294.000000</td>\n",
       "      <td>4.000000</td>\n",
       "      <td>1.400000</td>\n",
       "      <td>16.000000</td>\n",
       "      <td>2.000000</td>\n",
       "      <td>12.000000</td>\n",
       "      <td>5.000000</td>\n",
       "      <td>2800.000000</td>\n",
       "      <td>8.400000</td>\n",
       "    </tr>\n",
       "    <tr>\n",
       "      <th>75%</th>\n",
       "      <td>2744.000000</td>\n",
       "      <td>382.000000</td>\n",
       "      <td>170.000000</td>\n",
       "      <td>5.500000</td>\n",
       "      <td>428.000000</td>\n",
       "      <td>8.000000</td>\n",
       "      <td>1.875000</td>\n",
       "      <td>32.000000</td>\n",
       "      <td>3.000000</td>\n",
       "      <td>16.000000</td>\n",
       "      <td>8.000000</td>\n",
       "      <td>3240.000000</td>\n",
       "      <td>9.800000</td>\n",
       "    </tr>\n",
       "    <tr>\n",
       "      <th>max</th>\n",
       "      <td>4361.000000</td>\n",
       "      <td>9807.000000</td>\n",
       "      <td>753.000000</td>\n",
       "      <td>12.200000</td>\n",
       "      <td>806.000000</td>\n",
       "      <td>8.000000</td>\n",
       "      <td>2.700000</td>\n",
       "      <td>128.000000</td>\n",
       "      <td>6.000000</td>\n",
       "      <td>23.000000</td>\n",
       "      <td>20.000000</td>\n",
       "      <td>9500.000000</td>\n",
       "      <td>18.500000</td>\n",
       "    </tr>\n",
       "  </tbody>\n",
       "</table>\n",
       "</div>"
      ],
      "text/plain": [
       "             Price         Sale      weight  resoloution         ppi  \\\n",
       "count   161.000000   161.000000  161.000000   161.000000  161.000000   \n",
       "mean   2215.596273   621.465839  170.426087     5.209938  335.055901   \n",
       "std     768.187171  1546.618517   92.888612     1.509953  134.826659   \n",
       "min     614.000000    10.000000   66.000000     1.400000  121.000000   \n",
       "25%    1734.000000    37.000000  134.100000     4.800000  233.000000   \n",
       "50%    2258.000000   106.000000  153.000000     5.150000  294.000000   \n",
       "75%    2744.000000   382.000000  170.000000     5.500000  428.000000   \n",
       "max    4361.000000  9807.000000  753.000000    12.200000  806.000000   \n",
       "\n",
       "         cpu core    cpu freq  internal mem         ram     RearCam  \\\n",
       "count  161.000000  161.000000    161.000000  161.000000  161.000000   \n",
       "mean     4.857143    1.502832     24.501714    2.204994   10.378261   \n",
       "std      2.444016    0.599783     28.804773    1.609831    6.181585   \n",
       "min      0.000000    0.000000      0.000000    0.000000    0.000000   \n",
       "25%      4.000000    1.200000      8.000000    1.000000    5.000000   \n",
       "50%      4.000000    1.400000     16.000000    2.000000   12.000000   \n",
       "75%      8.000000    1.875000     32.000000    3.000000   16.000000   \n",
       "max      8.000000    2.700000    128.000000    6.000000   23.000000   \n",
       "\n",
       "        Front_Cam      battery   thickness  \n",
       "count  161.000000   161.000000  161.000000  \n",
       "mean     4.503106  2842.111801    8.921739  \n",
       "std      4.342053  1366.990838    2.192564  \n",
       "min      0.000000   800.000000    5.100000  \n",
       "25%      0.000000  2040.000000    7.600000  \n",
       "50%      5.000000  2800.000000    8.400000  \n",
       "75%      8.000000  3240.000000    9.800000  \n",
       "max     20.000000  9500.000000   18.500000  "
      ]
     },
     "execution_count": 8,
     "metadata": {},
     "output_type": "execute_result"
    }
   ],
   "source": [
    "df.describe()"
   ]
  },
  {
   "cell_type": "markdown",
   "id": "ed62b576",
   "metadata": {
    "papermill": {
     "duration": 0.010688,
     "end_time": "2022-08-24T06:04:38.587493",
     "exception": false,
     "start_time": "2022-08-24T06:04:38.576805",
     "status": "completed"
    },
    "tags": []
   },
   "source": [
    "Seems like there are some outliers in the weight and thickness columns. We need to remove the outliers for better accuracy and to avoid overfitting."
   ]
  },
  {
   "cell_type": "code",
   "execution_count": 9,
   "id": "33779a1e",
   "metadata": {
    "execution": {
     "iopub.execute_input": "2022-08-24T06:04:38.610532Z",
     "iopub.status.busy": "2022-08-24T06:04:38.610153Z",
     "iopub.status.idle": "2022-08-24T06:04:38.616983Z",
     "shell.execute_reply": "2022-08-24T06:04:38.615925Z"
    },
    "papermill": {
     "duration": 0.021226,
     "end_time": "2022-08-24T06:04:38.619252",
     "exception": false,
     "start_time": "2022-08-24T06:04:38.598026",
     "status": "completed"
    },
    "tags": []
   },
   "outputs": [
    {
     "data": {
      "text/plain": [
       "(161, 13)"
      ]
     },
     "execution_count": 9,
     "metadata": {},
     "output_type": "execute_result"
    }
   ],
   "source": [
    "df.shape"
   ]
  },
  {
   "cell_type": "markdown",
   "id": "48a3bf44",
   "metadata": {
    "papermill": {
     "duration": 0.010477,
     "end_time": "2022-08-24T06:04:38.640503",
     "exception": false,
     "start_time": "2022-08-24T06:04:38.630026",
     "status": "completed"
    },
    "tags": []
   },
   "source": [
    "**Removal of Outliers using the Standard Deviation Method**"
   ]
  },
  {
   "cell_type": "markdown",
   "id": "a3a7d531",
   "metadata": {
    "papermill": {
     "duration": 0.0103,
     "end_time": "2022-08-24T06:04:38.661456",
     "exception": false,
     "start_time": "2022-08-24T06:04:38.651156",
     "status": "completed"
    },
    "tags": []
   },
   "source": [
    "Weight Column Outlier Removal"
   ]
  },
  {
   "cell_type": "code",
   "execution_count": 10,
   "id": "bf01c8de",
   "metadata": {
    "execution": {
     "iopub.execute_input": "2022-08-24T06:04:38.687835Z",
     "iopub.status.busy": "2022-08-24T06:04:38.687447Z",
     "iopub.status.idle": "2022-08-24T06:04:39.180441Z",
     "shell.execute_reply": "2022-08-24T06:04:39.179229Z"
    },
    "papermill": {
     "duration": 0.511054,
     "end_time": "2022-08-24T06:04:39.182993",
     "exception": false,
     "start_time": "2022-08-24T06:04:38.671939",
     "status": "completed"
    },
    "tags": []
   },
   "outputs": [
    {
     "data": {
      "image/png": "[encoded data removed]",
      "text/plain": [
       "<Figure size 1440x720 with 2 Axes>"
      ]
     },
     "metadata": {
      "needs_background": "light"
     },
     "output_type": "display_data"
    }
   ],
   "source": [
    "fig, ax = plt.subplots(1,2, figsize = (20,10))\n",
    "sns.boxplot(df['weight'], ax = ax[0], color = 'b')\n",
    "sns.distplot(df['weight'], ax = ax[1], color = 'g')\n",
    "ax[0].set_title('Distribution Plot of Weight before removal of outliers')\n",
    "ax[1].set_title('Box Plot of before after removal of outliers')\n",
    "plt.show()"
   ]
  },
  {
   "cell_type": "code",
   "execution_count": 11,
   "id": "823f5b29",
   "metadata": {
    "execution": {
     "iopub.execute_input": "2022-08-24T06:04:39.207825Z",
     "iopub.status.busy": "2022-08-24T06:04:39.207417Z",
     "iopub.status.idle": "2022-08-24T06:04:39.213604Z",
     "shell.execute_reply": "2022-08-24T06:04:39.212831Z"
    },
    "papermill": {
     "duration": 0.020949,
     "end_time": "2022-08-24T06:04:39.215632",
     "exception": false,
     "start_time": "2022-08-24T06:04:39.194683",
     "status": "completed"
    },
    "tags": []
   },
   "outputs": [],
   "source": [
    "lower_limit = df['weight'].mean() - 3*df['weight'].std()\n",
    "upper_limit = df['weight'].mean() + 3*df['weight'].std()"
   ]
  },
  {
   "cell_type": "code",
   "execution_count": 12,
   "id": "eadca504",
   "metadata": {
    "execution": {
     "iopub.execute_input": "2022-08-24T06:04:39.240681Z",
     "iopub.status.busy": "2022-08-24T06:04:39.240086Z",
     "iopub.status.idle": "2022-08-24T06:04:39.244803Z",
     "shell.execute_reply": "2022-08-24T06:04:39.244030Z"
    },
    "papermill": {
     "duration": 0.020129,
     "end_time": "2022-08-24T06:04:39.247186",
     "exception": false,
     "start_time": "2022-08-24T06:04:39.227057",
     "status": "completed"
    },
    "tags": []
   },
   "outputs": [],
   "source": [
    "df = df[df['weight'] < upper_limit ]"
   ]
  },
  {
   "cell_type": "code",
   "execution_count": 13,
   "id": "67d2c4af",
   "metadata": {
    "execution": {
     "iopub.execute_input": "2022-08-24T06:04:39.272121Z",
     "iopub.status.busy": "2022-08-24T06:04:39.271518Z",
     "iopub.status.idle": "2022-08-24T06:04:39.281996Z",
     "shell.execute_reply": "2022-08-24T06:04:39.281223Z"
    },
    "papermill": {
     "duration": 0.025424,
     "end_time": "2022-08-24T06:04:39.284157",
     "exception": false,
     "start_time": "2022-08-24T06:04:39.258733",
     "status": "completed"
    },
    "tags": []
   },
   "outputs": [
    {
     "data": {
      "text/html": [
       "<div>\n",
       "<style scoped>\n",
       "    .dataframe tbody tr th:only-of-type {\n",
       "        vertical-align: middle;\n",
       "    }\n",
       "\n",
       "    .dataframe tbody tr th {\n",
       "        vertical-align: top;\n",
       "    }\n",
       "\n",
       "    .dataframe thead th {\n",
       "        text-align: right;\n",
       "    }\n",
       "</style>\n",
       "<table border=\"1\" class=\"dataframe\">\n",
       "  <thead>\n",
       "    <tr style=\"text-align: right;\">\n",
       "      <th></th>\n",
       "      <th>Price</th>\n",
       "      <th>Sale</th>\n",
       "      <th>weight</th>\n",
       "      <th>resoloution</th>\n",
       "      <th>ppi</th>\n",
       "      <th>cpu core</th>\n",
       "      <th>cpu freq</th>\n",
       "      <th>internal mem</th>\n",
       "      <th>ram</th>\n",
       "      <th>RearCam</th>\n",
       "      <th>Front_Cam</th>\n",
       "      <th>battery</th>\n",
       "      <th>thickness</th>\n",
       "    </tr>\n",
       "  </thead>\n",
       "  <tbody>\n",
       "  </tbody>\n",
       "</table>\n",
       "</div>"
      ],
      "text/plain": [
       "Empty DataFrame\n",
       "Columns: [Price, Sale, weight, resoloution, ppi, cpu core, cpu freq, internal mem, ram, RearCam, Front_Cam, battery, thickness]\n",
       "Index: []"
      ]
     },
     "execution_count": 13,
     "metadata": {},
     "output_type": "execute_result"
    }
   ],
   "source": [
    "df[df['weight'] < lower_limit ]"
   ]
  },
  {
   "cell_type": "code",
   "execution_count": 14,
   "id": "d4d08cfd",
   "metadata": {
    "execution": {
     "iopub.execute_input": "2022-08-24T06:04:39.309163Z",
     "iopub.status.busy": "2022-08-24T06:04:39.308719Z",
     "iopub.status.idle": "2022-08-24T06:04:39.706621Z",
     "shell.execute_reply": "2022-08-24T06:04:39.705761Z"
    },
    "papermill": {
     "duration": 0.412989,
     "end_time": "2022-08-24T06:04:39.708843",
     "exception": false,
     "start_time": "2022-08-24T06:04:39.295854",
     "status": "completed"
    },
    "tags": []
   },
   "outputs": [
    {
     "data": {
      "image/png": "[encoded data removed]",
      "text/plain": [
       "<Figure size 1440x720 with 2 Axes>"
      ]
     },
     "metadata": {
      "needs_background": "light"
     },
     "output_type": "display_data"
    }
   ],
   "source": [
    "fig, ax = plt.subplots(1,2, figsize = (20,10))\n",
    "sns.boxplot(df['weight'], ax = ax[0], color = 'b')\n",
    "sns.distplot(df['weight'], ax = ax[1], color = 'g')\n",
    "ax[0].set_title('Distribution Plot of weight after removal of outliers')\n",
    "ax[1].set_title('Box Plot of weight after removal of outliers')\n",
    "plt.show()"
   ]
  },
  {
   "cell_type": "code",
   "execution_count": 15,
   "id": "dbd6c334",
   "metadata": {
    "execution": {
     "iopub.execute_input": "2022-08-24T06:04:39.735218Z",
     "iopub.status.busy": "2022-08-24T06:04:39.734289Z",
     "iopub.status.idle": "2022-08-24T06:04:39.780039Z",
     "shell.execute_reply": "2022-08-24T06:04:39.778949Z"
    },
    "papermill": {
     "duration": 0.061315,
     "end_time": "2022-08-24T06:04:39.782340",
     "exception": false,
     "start_time": "2022-08-24T06:04:39.721025",
     "status": "completed"
    },
    "tags": []
   },
   "outputs": [
    {
     "data": {
      "text/html": [
       "<div>\n",
       "<style scoped>\n",
       "    .dataframe tbody tr th:only-of-type {\n",
       "        vertical-align: middle;\n",
       "    }\n",
       "\n",
       "    .dataframe tbody tr th {\n",
       "        vertical-align: top;\n",
       "    }\n",
       "\n",
       "    .dataframe thead th {\n",
       "        text-align: right;\n",
       "    }\n",
       "</style>\n",
       "<table border=\"1\" class=\"dataframe\">\n",
       "  <thead>\n",
       "    <tr style=\"text-align: right;\">\n",
       "      <th></th>\n",
       "      <th>Price</th>\n",
       "      <th>Sale</th>\n",
       "      <th>weight</th>\n",
       "      <th>resoloution</th>\n",
       "      <th>ppi</th>\n",
       "      <th>cpu core</th>\n",
       "      <th>cpu freq</th>\n",
       "      <th>internal mem</th>\n",
       "      <th>ram</th>\n",
       "      <th>RearCam</th>\n",
       "      <th>Front_Cam</th>\n",
       "      <th>battery</th>\n",
       "      <th>thickness</th>\n",
       "    </tr>\n",
       "  </thead>\n",
       "  <tbody>\n",
       "    <tr>\n",
       "      <th>count</th>\n",
       "      <td>157.000000</td>\n",
       "      <td>157.000000</td>\n",
       "      <td>157.000000</td>\n",
       "      <td>157.000000</td>\n",
       "      <td>157.000000</td>\n",
       "      <td>157.000000</td>\n",
       "      <td>157.000000</td>\n",
       "      <td>157.000000</td>\n",
       "      <td>157.000000</td>\n",
       "      <td>157.000000</td>\n",
       "      <td>157.000000</td>\n",
       "      <td>157.000000</td>\n",
       "      <td>157.000000</td>\n",
       "    </tr>\n",
       "    <tr>\n",
       "      <th>mean</th>\n",
       "      <td>2213.254777</td>\n",
       "      <td>631.038217</td>\n",
       "      <td>158.946497</td>\n",
       "      <td>5.058599</td>\n",
       "      <td>337.592357</td>\n",
       "      <td>4.828025</td>\n",
       "      <td>1.491949</td>\n",
       "      <td>24.514497</td>\n",
       "      <td>2.197478</td>\n",
       "      <td>10.477070</td>\n",
       "      <td>4.566879</td>\n",
       "      <td>2699.235669</td>\n",
       "      <td>8.947771</td>\n",
       "    </tr>\n",
       "    <tr>\n",
       "      <th>std</th>\n",
       "      <td>777.275443</td>\n",
       "      <td>1564.775719</td>\n",
       "      <td>55.358625</td>\n",
       "      <td>1.175743</td>\n",
       "      <td>135.574086</td>\n",
       "      <td>2.447339</td>\n",
       "      <td>0.601143</td>\n",
       "      <td>29.143473</td>\n",
       "      <td>1.627670</td>\n",
       "      <td>6.224035</td>\n",
       "      <td>4.378596</td>\n",
       "      <td>1030.240382</td>\n",
       "      <td>2.214248</td>\n",
       "    </tr>\n",
       "    <tr>\n",
       "      <th>min</th>\n",
       "      <td>614.000000</td>\n",
       "      <td>10.000000</td>\n",
       "      <td>66.000000</td>\n",
       "      <td>1.400000</td>\n",
       "      <td>121.000000</td>\n",
       "      <td>0.000000</td>\n",
       "      <td>0.000000</td>\n",
       "      <td>0.000000</td>\n",
       "      <td>0.000000</td>\n",
       "      <td>0.000000</td>\n",
       "      <td>0.000000</td>\n",
       "      <td>800.000000</td>\n",
       "      <td>5.100000</td>\n",
       "    </tr>\n",
       "    <tr>\n",
       "      <th>25%</th>\n",
       "      <td>1734.000000</td>\n",
       "      <td>37.000000</td>\n",
       "      <td>134.000000</td>\n",
       "      <td>4.800000</td>\n",
       "      <td>233.000000</td>\n",
       "      <td>4.000000</td>\n",
       "      <td>1.200000</td>\n",
       "      <td>8.000000</td>\n",
       "      <td>1.000000</td>\n",
       "      <td>5.000000</td>\n",
       "      <td>0.000000</td>\n",
       "      <td>2040.000000</td>\n",
       "      <td>7.600000</td>\n",
       "    </tr>\n",
       "    <tr>\n",
       "      <th>50%</th>\n",
       "      <td>2258.000000</td>\n",
       "      <td>106.000000</td>\n",
       "      <td>152.000000</td>\n",
       "      <td>5.100000</td>\n",
       "      <td>294.000000</td>\n",
       "      <td>4.000000</td>\n",
       "      <td>1.400000</td>\n",
       "      <td>16.000000</td>\n",
       "      <td>2.000000</td>\n",
       "      <td>12.000000</td>\n",
       "      <td>5.000000</td>\n",
       "      <td>2700.000000</td>\n",
       "      <td>8.500000</td>\n",
       "    </tr>\n",
       "    <tr>\n",
       "      <th>75%</th>\n",
       "      <td>2744.000000</td>\n",
       "      <td>378.000000</td>\n",
       "      <td>170.000000</td>\n",
       "      <td>5.500000</td>\n",
       "      <td>432.000000</td>\n",
       "      <td>8.000000</td>\n",
       "      <td>1.875000</td>\n",
       "      <td>32.000000</td>\n",
       "      <td>3.000000</td>\n",
       "      <td>16.000000</td>\n",
       "      <td>8.000000</td>\n",
       "      <td>3200.000000</td>\n",
       "      <td>9.900000</td>\n",
       "    </tr>\n",
       "    <tr>\n",
       "      <th>max</th>\n",
       "      <td>4361.000000</td>\n",
       "      <td>9807.000000</td>\n",
       "      <td>404.000000</td>\n",
       "      <td>8.000000</td>\n",
       "      <td>806.000000</td>\n",
       "      <td>8.000000</td>\n",
       "      <td>2.700000</td>\n",
       "      <td>128.000000</td>\n",
       "      <td>6.000000</td>\n",
       "      <td>23.000000</td>\n",
       "      <td>20.000000</td>\n",
       "      <td>7000.000000</td>\n",
       "      <td>18.500000</td>\n",
       "    </tr>\n",
       "  </tbody>\n",
       "</table>\n",
       "</div>"
      ],
      "text/plain": [
       "             Price         Sale      weight  resoloution         ppi  \\\n",
       "count   157.000000   157.000000  157.000000   157.000000  157.000000   \n",
       "mean   2213.254777   631.038217  158.946497     5.058599  337.592357   \n",
       "std     777.275443  1564.775719   55.358625     1.175743  135.574086   \n",
       "min     614.000000    10.000000   66.000000     1.400000  121.000000   \n",
       "25%    1734.000000    37.000000  134.000000     4.800000  233.000000   \n",
       "50%    2258.000000   106.000000  152.000000     5.100000  294.000000   \n",
       "75%    2744.000000   378.000000  170.000000     5.500000  432.000000   \n",
       "max    4361.000000  9807.000000  404.000000     8.000000  806.000000   \n",
       "\n",
       "         cpu core    cpu freq  internal mem         ram     RearCam  \\\n",
       "count  157.000000  157.000000    157.000000  157.000000  157.000000   \n",
       "mean     4.828025    1.491949     24.514497    2.197478   10.477070   \n",
       "std      2.447339    0.601143     29.143473    1.627670    6.224035   \n",
       "min      0.000000    0.000000      0.000000    0.000000    0.000000   \n",
       "25%      4.000000    1.200000      8.000000    1.000000    5.000000   \n",
       "50%      4.000000    1.400000     16.000000    2.000000   12.000000   \n",
       "75%      8.000000    1.875000     32.000000    3.000000   16.000000   \n",
       "max      8.000000    2.700000    128.000000    6.000000   23.000000   \n",
       "\n",
       "        Front_Cam      battery   thickness  \n",
       "count  157.000000   157.000000  157.000000  \n",
       "mean     4.566879  2699.235669    8.947771  \n",
       "std      4.378596  1030.240382    2.214248  \n",
       "min      0.000000   800.000000    5.100000  \n",
       "25%      0.000000  2040.000000    7.600000  \n",
       "50%      5.000000  2700.000000    8.500000  \n",
       "75%      8.000000  3200.000000    9.900000  \n",
       "max     20.000000  7000.000000   18.500000  "
      ]
     },
     "execution_count": 15,
     "metadata": {},
     "output_type": "execute_result"
    }
   ],
   "source": [
    "df.describe()"
   ]
  },
  {
   "cell_type": "markdown",
   "id": "8c190d17",
   "metadata": {
    "papermill": {
     "duration": 0.012043,
     "end_time": "2022-08-24T06:04:39.806671",
     "exception": false,
     "start_time": "2022-08-24T06:04:39.794628",
     "status": "completed"
    },
    "tags": []
   },
   "source": [
    "Thickness column outlier removal"
   ]
  },
  {
   "cell_type": "code",
   "execution_count": 16,
   "id": "3aa0b810",
   "metadata": {
    "execution": {
     "iopub.execute_input": "2022-08-24T06:04:39.833450Z",
     "iopub.status.busy": "2022-08-24T06:04:39.832844Z",
     "iopub.status.idle": "2022-08-24T06:04:40.238361Z",
     "shell.execute_reply": "2022-08-24T06:04:40.237046Z"
    },
    "papermill": {
     "duration": 0.421897,
     "end_time": "2022-08-24T06:04:40.240665",
     "exception": false,
     "start_time": "2022-08-24T06:04:39.818768",
     "status": "completed"
    },
    "tags": []
   },
   "outputs": [
    {
     "data": {
      "image/png": "[encoded data removed]",
      "text/plain": [
       "<Figure size 1440x720 with 2 Axes>"
      ]
     },
     "metadata": {
      "needs_background": "light"
     },
     "output_type": "display_data"
    }
   ],
   "source": [
    "fig, ax = plt.subplots(1,2, figsize = (20,10))\n",
    "sns.boxplot(df['thickness'], ax = ax[0], color = 'b')\n",
    "sns.distplot(df['thickness'], ax = ax[1], color = 'g')\n",
    "ax[0].set_title('Distribution Plot of Thickness before removal of outliers')\n",
    "ax[1].set_title('Box Plot of Thickness before removal of outliers')\n",
    "plt.show()"
   ]
  },
  {
   "cell_type": "code",
   "execution_count": 17,
   "id": "26fb1a47",
   "metadata": {
    "execution": {
     "iopub.execute_input": "2022-08-24T06:04:40.269713Z",
     "iopub.status.busy": "2022-08-24T06:04:40.268603Z",
     "iopub.status.idle": "2022-08-24T06:04:40.275365Z",
     "shell.execute_reply": "2022-08-24T06:04:40.274259Z"
    },
    "papermill": {
     "duration": 0.023708,
     "end_time": "2022-08-24T06:04:40.277737",
     "exception": false,
     "start_time": "2022-08-24T06:04:40.254029",
     "status": "completed"
    },
    "tags": []
   },
   "outputs": [],
   "source": [
    "lower_limit = df['thickness'].mean() - 3*df['thickness'].std()\n",
    "upper_limit = df['thickness'].mean() + 3*df['thickness'].std()"
   ]
  },
  {
   "cell_type": "code",
   "execution_count": 18,
   "id": "eafd492f",
   "metadata": {
    "execution": {
     "iopub.execute_input": "2022-08-24T06:04:40.305729Z",
     "iopub.status.busy": "2022-08-24T06:04:40.304556Z",
     "iopub.status.idle": "2022-08-24T06:04:40.310100Z",
     "shell.execute_reply": "2022-08-24T06:04:40.309259Z"
    },
    "papermill": {
     "duration": 0.021432,
     "end_time": "2022-08-24T06:04:40.312014",
     "exception": false,
     "start_time": "2022-08-24T06:04:40.290582",
     "status": "completed"
    },
    "tags": []
   },
   "outputs": [],
   "source": [
    "df = df[df['thickness'] < upper_limit]"
   ]
  },
  {
   "cell_type": "code",
   "execution_count": 19,
   "id": "85b32878",
   "metadata": {
    "execution": {
     "iopub.execute_input": "2022-08-24T06:04:40.339944Z",
     "iopub.status.busy": "2022-08-24T06:04:40.339238Z",
     "iopub.status.idle": "2022-08-24T06:04:40.350444Z",
     "shell.execute_reply": "2022-08-24T06:04:40.349380Z"
    },
    "papermill": {
     "duration": 0.027538,
     "end_time": "2022-08-24T06:04:40.352444",
     "exception": false,
     "start_time": "2022-08-24T06:04:40.324906",
     "status": "completed"
    },
    "tags": []
   },
   "outputs": [
    {
     "data": {
      "text/html": [
       "<div>\n",
       "<style scoped>\n",
       "    .dataframe tbody tr th:only-of-type {\n",
       "        vertical-align: middle;\n",
       "    }\n",
       "\n",
       "    .dataframe tbody tr th {\n",
       "        vertical-align: top;\n",
       "    }\n",
       "\n",
       "    .dataframe thead th {\n",
       "        text-align: right;\n",
       "    }\n",
       "</style>\n",
       "<table border=\"1\" class=\"dataframe\">\n",
       "  <thead>\n",
       "    <tr style=\"text-align: right;\">\n",
       "      <th></th>\n",
       "      <th>Price</th>\n",
       "      <th>Sale</th>\n",
       "      <th>weight</th>\n",
       "      <th>resoloution</th>\n",
       "      <th>ppi</th>\n",
       "      <th>cpu core</th>\n",
       "      <th>cpu freq</th>\n",
       "      <th>internal mem</th>\n",
       "      <th>ram</th>\n",
       "      <th>RearCam</th>\n",
       "      <th>Front_Cam</th>\n",
       "      <th>battery</th>\n",
       "      <th>thickness</th>\n",
       "    </tr>\n",
       "  </thead>\n",
       "  <tbody>\n",
       "  </tbody>\n",
       "</table>\n",
       "</div>"
      ],
      "text/plain": [
       "Empty DataFrame\n",
       "Columns: [Price, Sale, weight, resoloution, ppi, cpu core, cpu freq, internal mem, ram, RearCam, Front_Cam, battery, thickness]\n",
       "Index: []"
      ]
     },
     "execution_count": 19,
     "metadata": {},
     "output_type": "execute_result"
    }
   ],
   "source": [
    "df[df['thickness'] < lower_limit]"
   ]
  },
  {
   "cell_type": "code",
   "execution_count": 20,
   "id": "635de58b",
   "metadata": {
    "execution": {
     "iopub.execute_input": "2022-08-24T06:04:40.380240Z",
     "iopub.status.busy": "2022-08-24T06:04:40.379795Z",
     "iopub.status.idle": "2022-08-24T06:04:40.743287Z",
     "shell.execute_reply": "2022-08-24T06:04:40.742271Z"
    },
    "papermill": {
     "duration": 0.380211,
     "end_time": "2022-08-24T06:04:40.745592",
     "exception": false,
     "start_time": "2022-08-24T06:04:40.365381",
     "status": "completed"
    },
    "tags": []
   },
   "outputs": [
    {
     "data": {
      "image/png": "[encoded data removed]",
      "text/plain": [
       "<Figure size 1440x720 with 2 Axes>"
      ]
     },
     "metadata": {
      "needs_background": "light"
     },
     "output_type": "display_data"
    }
   ],
   "source": [
    "fig, ax = plt.subplots(1,2, figsize = (20,10))\n",
    "sns.boxplot(df['thickness'], ax = ax[0], color = 'b')\n",
    "sns.distplot(df['thickness'], ax = ax[1], color = 'g')\n",
    "ax[0].set_title('Distribution Plot of Thickness after removal of outliers')\n",
    "ax[1].set_title('Box Plot of Thickness after removal of outliers')\n",
    "plt.show()"
   ]
  },
  {
   "cell_type": "code",
   "execution_count": 21,
   "id": "8c94ec2f",
   "metadata": {
    "execution": {
     "iopub.execute_input": "2022-08-24T06:04:40.774470Z",
     "iopub.status.busy": "2022-08-24T06:04:40.774094Z",
     "iopub.status.idle": "2022-08-24T06:04:40.821653Z",
     "shell.execute_reply": "2022-08-24T06:04:40.820569Z"
    },
    "papermill": {
     "duration": 0.065415,
     "end_time": "2022-08-24T06:04:40.824584",
     "exception": false,
     "start_time": "2022-08-24T06:04:40.759169",
     "status": "completed"
    },
    "tags": []
   },
   "outputs": [
    {
     "data": {
      "text/html": [
       "<div>\n",
       "<style scoped>\n",
       "    .dataframe tbody tr th:only-of-type {\n",
       "        vertical-align: middle;\n",
       "    }\n",
       "\n",
       "    .dataframe tbody tr th {\n",
       "        vertical-align: top;\n",
       "    }\n",
       "\n",
       "    .dataframe thead th {\n",
       "        text-align: right;\n",
       "    }\n",
       "</style>\n",
       "<table border=\"1\" class=\"dataframe\">\n",
       "  <thead>\n",
       "    <tr style=\"text-align: right;\">\n",
       "      <th></th>\n",
       "      <th>Price</th>\n",
       "      <th>Sale</th>\n",
       "      <th>weight</th>\n",
       "      <th>resoloution</th>\n",
       "      <th>ppi</th>\n",
       "      <th>cpu core</th>\n",
       "      <th>cpu freq</th>\n",
       "      <th>internal mem</th>\n",
       "      <th>ram</th>\n",
       "      <th>RearCam</th>\n",
       "      <th>Front_Cam</th>\n",
       "      <th>battery</th>\n",
       "      <th>thickness</th>\n",
       "    </tr>\n",
       "  </thead>\n",
       "  <tbody>\n",
       "    <tr>\n",
       "      <th>count</th>\n",
       "      <td>153.00000</td>\n",
       "      <td>153.000000</td>\n",
       "      <td>153.000000</td>\n",
       "      <td>153.000000</td>\n",
       "      <td>153.000000</td>\n",
       "      <td>153.000000</td>\n",
       "      <td>153.000000</td>\n",
       "      <td>153.000000</td>\n",
       "      <td>153.000000</td>\n",
       "      <td>153.000000</td>\n",
       "      <td>153.000000</td>\n",
       "      <td>153.000000</td>\n",
       "      <td>153.000000</td>\n",
       "    </tr>\n",
       "    <tr>\n",
       "      <th>mean</th>\n",
       "      <td>2253.69281</td>\n",
       "      <td>625.653595</td>\n",
       "      <td>160.318954</td>\n",
       "      <td>5.133333</td>\n",
       "      <td>343.071895</td>\n",
       "      <td>4.954248</td>\n",
       "      <td>1.530954</td>\n",
       "      <td>25.150379</td>\n",
       "      <td>2.252837</td>\n",
       "      <td>10.707843</td>\n",
       "      <td>4.686275</td>\n",
       "      <td>2745.620915</td>\n",
       "      <td>8.735948</td>\n",
       "    </tr>\n",
       "    <tr>\n",
       "      <th>std</th>\n",
       "      <td>745.25953</td>\n",
       "      <td>1583.457336</td>\n",
       "      <td>55.411851</td>\n",
       "      <td>1.094572</td>\n",
       "      <td>132.957804</td>\n",
       "      <td>2.348964</td>\n",
       "      <td>0.557472</td>\n",
       "      <td>29.252658</td>\n",
       "      <td>1.611797</td>\n",
       "      <td>6.136022</td>\n",
       "      <td>4.371891</td>\n",
       "      <td>1002.150044</td>\n",
       "      <td>1.789943</td>\n",
       "    </tr>\n",
       "    <tr>\n",
       "      <th>min</th>\n",
       "      <td>614.00000</td>\n",
       "      <td>10.000000</td>\n",
       "      <td>66.000000</td>\n",
       "      <td>1.400000</td>\n",
       "      <td>121.000000</td>\n",
       "      <td>0.000000</td>\n",
       "      <td>0.000000</td>\n",
       "      <td>0.000000</td>\n",
       "      <td>0.000000</td>\n",
       "      <td>0.000000</td>\n",
       "      <td>0.000000</td>\n",
       "      <td>800.000000</td>\n",
       "      <td>5.100000</td>\n",
       "    </tr>\n",
       "    <tr>\n",
       "      <th>25%</th>\n",
       "      <td>1741.00000</td>\n",
       "      <td>36.000000</td>\n",
       "      <td>135.000000</td>\n",
       "      <td>5.000000</td>\n",
       "      <td>233.000000</td>\n",
       "      <td>4.000000</td>\n",
       "      <td>1.200000</td>\n",
       "      <td>8.000000</td>\n",
       "      <td>1.000000</td>\n",
       "      <td>5.000000</td>\n",
       "      <td>0.900000</td>\n",
       "      <td>2100.000000</td>\n",
       "      <td>7.600000</td>\n",
       "    </tr>\n",
       "    <tr>\n",
       "      <th>50%</th>\n",
       "      <td>2266.00000</td>\n",
       "      <td>101.000000</td>\n",
       "      <td>153.000000</td>\n",
       "      <td>5.150000</td>\n",
       "      <td>306.000000</td>\n",
       "      <td>4.000000</td>\n",
       "      <td>1.400000</td>\n",
       "      <td>16.000000</td>\n",
       "      <td>2.000000</td>\n",
       "      <td>12.000000</td>\n",
       "      <td>5.000000</td>\n",
       "      <td>2800.000000</td>\n",
       "      <td>8.400000</td>\n",
       "    </tr>\n",
       "    <tr>\n",
       "      <th>75%</th>\n",
       "      <td>2746.00000</td>\n",
       "      <td>344.000000</td>\n",
       "      <td>170.000000</td>\n",
       "      <td>5.500000</td>\n",
       "      <td>432.000000</td>\n",
       "      <td>8.000000</td>\n",
       "      <td>1.875000</td>\n",
       "      <td>32.000000</td>\n",
       "      <td>3.000000</td>\n",
       "      <td>16.000000</td>\n",
       "      <td>8.000000</td>\n",
       "      <td>3200.000000</td>\n",
       "      <td>9.700000</td>\n",
       "    </tr>\n",
       "    <tr>\n",
       "      <th>max</th>\n",
       "      <td>4361.00000</td>\n",
       "      <td>9807.000000</td>\n",
       "      <td>404.000000</td>\n",
       "      <td>8.000000</td>\n",
       "      <td>806.000000</td>\n",
       "      <td>8.000000</td>\n",
       "      <td>2.700000</td>\n",
       "      <td>128.000000</td>\n",
       "      <td>6.000000</td>\n",
       "      <td>23.000000</td>\n",
       "      <td>20.000000</td>\n",
       "      <td>7000.000000</td>\n",
       "      <td>14.100000</td>\n",
       "    </tr>\n",
       "  </tbody>\n",
       "</table>\n",
       "</div>"
      ],
      "text/plain": [
       "            Price         Sale      weight  resoloution         ppi  \\\n",
       "count   153.00000   153.000000  153.000000   153.000000  153.000000   \n",
       "mean   2253.69281   625.653595  160.318954     5.133333  343.071895   \n",
       "std     745.25953  1583.457336   55.411851     1.094572  132.957804   \n",
       "min     614.00000    10.000000   66.000000     1.400000  121.000000   \n",
       "25%    1741.00000    36.000000  135.000000     5.000000  233.000000   \n",
       "50%    2266.00000   101.000000  153.000000     5.150000  306.000000   \n",
       "75%    2746.00000   344.000000  170.000000     5.500000  432.000000   \n",
       "max    4361.00000  9807.000000  404.000000     8.000000  806.000000   \n",
       "\n",
       "         cpu core    cpu freq  internal mem         ram     RearCam  \\\n",
       "count  153.000000  153.000000    153.000000  153.000000  153.000000   \n",
       "mean     4.954248    1.530954     25.150379    2.252837   10.707843   \n",
       "std      2.348964    0.557472     29.252658    1.611797    6.136022   \n",
       "min      0.000000    0.000000      0.000000    0.000000    0.000000   \n",
       "25%      4.000000    1.200000      8.000000    1.000000    5.000000   \n",
       "50%      4.000000    1.400000     16.000000    2.000000   12.000000   \n",
       "75%      8.000000    1.875000     32.000000    3.000000   16.000000   \n",
       "max      8.000000    2.700000    128.000000    6.000000   23.000000   \n",
       "\n",
       "        Front_Cam      battery   thickness  \n",
       "count  153.000000   153.000000  153.000000  \n",
       "mean     4.686275  2745.620915    8.735948  \n",
       "std      4.371891  1002.150044    1.789943  \n",
       "min      0.000000   800.000000    5.100000  \n",
       "25%      0.900000  2100.000000    7.600000  \n",
       "50%      5.000000  2800.000000    8.400000  \n",
       "75%      8.000000  3200.000000    9.700000  \n",
       "max     20.000000  7000.000000   14.100000  "
      ]
     },
     "execution_count": 21,
     "metadata": {},
     "output_type": "execute_result"
    }
   ],
   "source": [
    "df.describe()"
   ]
  },
  {
   "cell_type": "markdown",
   "id": "76d83f6e",
   "metadata": {
    "papermill": {
     "duration": 0.013523,
     "end_time": "2022-08-24T06:04:40.852036",
     "exception": false,
     "start_time": "2022-08-24T06:04:40.838513",
     "status": "completed"
    },
    "tags": []
   },
   "source": [
    "We are now good to go for data modelling."
   ]
  },
  {
   "cell_type": "markdown",
   "id": "98ec8db2",
   "metadata": {
    "papermill": {
     "duration": 0.013507,
     "end_time": "2022-08-24T06:04:40.880125",
     "exception": false,
     "start_time": "2022-08-24T06:04:40.866618",
     "status": "completed"
    },
    "tags": []
   },
   "source": [
    "# Data Modelling using Regression Techniques"
   ]
  },
  {
   "cell_type": "code",
   "execution_count": 22,
   "id": "3b722d98",
   "metadata": {
    "execution": {
     "iopub.execute_input": "2022-08-24T06:04:40.910056Z",
     "iopub.status.busy": "2022-08-24T06:04:40.909351Z",
     "iopub.status.idle": "2022-08-24T06:04:40.915041Z",
     "shell.execute_reply": "2022-08-24T06:04:40.914266Z"
    },
    "papermill": {
     "duration": 0.023336,
     "end_time": "2022-08-24T06:04:40.917135",
     "exception": false,
     "start_time": "2022-08-24T06:04:40.893799",
     "status": "completed"
    },
    "tags": []
   },
   "outputs": [],
   "source": [
    "X = df.drop('Price', axis = 1)\n",
    "y = df['Price']"
   ]
  },
  {
   "cell_type": "code",
   "execution_count": 23,
   "id": "9b03039e",
   "metadata": {
    "execution": {
     "iopub.execute_input": "2022-08-24T06:04:40.947007Z",
     "iopub.status.busy": "2022-08-24T06:04:40.946321Z",
     "iopub.status.idle": "2022-08-24T06:04:41.125676Z",
     "shell.execute_reply": "2022-08-24T06:04:41.124600Z"
    },
    "papermill": {
     "duration": 0.197307,
     "end_time": "2022-08-24T06:04:41.128255",
     "exception": false,
     "start_time": "2022-08-24T06:04:40.930948",
     "status": "completed"
    },
    "tags": []
   },
   "outputs": [],
   "source": [
    "from sklearn.compose import ColumnTransformer\n",
    "from sklearn.pipeline import Pipeline\n",
    "from sklearn.preprocessing import StandardScaler\n",
    "from sklearn.metrics import r2_score,mean_absolute_error"
   ]
  },
  {
   "cell_type": "code",
   "execution_count": 24,
   "id": "c241397d",
   "metadata": {
    "execution": {
     "iopub.execute_input": "2022-08-24T06:04:41.158321Z",
     "iopub.status.busy": "2022-08-24T06:04:41.157779Z",
     "iopub.status.idle": "2022-08-24T06:04:41.486711Z",
     "shell.execute_reply": "2022-08-24T06:04:41.485372Z"
    },
    "papermill": {
     "duration": 0.347136,
     "end_time": "2022-08-24T06:04:41.489423",
     "exception": false,
     "start_time": "2022-08-24T06:04:41.142287",
     "status": "completed"
    },
    "tags": []
   },
   "outputs": [],
   "source": [
    "from sklearn.linear_model import LinearRegression\n",
    "from sklearn.neighbors import KNeighborsRegressor\n",
    "from sklearn.tree import DecisionTreeRegressor\n",
    "from sklearn.ensemble import RandomForestRegressor\n",
    "from sklearn.svm import SVR\n",
    "from xgboost import XGBRegressor"
   ]
  },
  {
   "cell_type": "code",
   "execution_count": 25,
   "id": "a6a0755c",
   "metadata": {
    "execution": {
     "iopub.execute_input": "2022-08-24T06:04:41.519973Z",
     "iopub.status.busy": "2022-08-24T06:04:41.519560Z",
     "iopub.status.idle": "2022-08-24T06:04:41.525921Z",
     "shell.execute_reply": "2022-08-24T06:04:41.525130Z"
    },
    "papermill": {
     "duration": 0.024461,
     "end_time": "2022-08-24T06:04:41.527958",
     "exception": false,
     "start_time": "2022-08-24T06:04:41.503497",
     "status": "completed"
    },
    "tags": []
   },
   "outputs": [],
   "source": [
    "from sklearn.model_selection import train_test_split\n",
    "X_train,X_test,y_train,y_test = train_test_split(X,y,test_size=0.15,random_state=106)"
   ]
  },
  {
   "cell_type": "code",
   "execution_count": 26,
   "id": "5266a99e",
   "metadata": {
    "execution": {
     "iopub.execute_input": "2022-08-24T06:04:41.558216Z",
     "iopub.status.busy": "2022-08-24T06:04:41.557492Z",
     "iopub.status.idle": "2022-08-24T06:04:41.561853Z",
     "shell.execute_reply": "2022-08-24T06:04:41.561062Z"
    },
    "papermill": {
     "duration": 0.021945,
     "end_time": "2022-08-24T06:04:41.563953",
     "exception": false,
     "start_time": "2022-08-24T06:04:41.542008",
     "status": "completed"
    },
    "tags": []
   },
   "outputs": [],
   "source": [
    "regressors = ['LinearRegression','KNeighborsRegressor','DecisionTreeRegressor','RandomForestRegressor','SVR','XGBRegressor']"
   ]
  },
  {
   "cell_type": "code",
   "execution_count": 27,
   "id": "287e070b",
   "metadata": {
    "execution": {
     "iopub.execute_input": "2022-08-24T06:04:41.594131Z",
     "iopub.status.busy": "2022-08-24T06:04:41.593602Z",
     "iopub.status.idle": "2022-08-24T06:04:41.601106Z",
     "shell.execute_reply": "2022-08-24T06:04:41.599934Z"
    },
    "papermill": {
     "duration": 0.025465,
     "end_time": "2022-08-24T06:04:41.603358",
     "exception": false,
     "start_time": "2022-08-24T06:04:41.577893",
     "status": "completed"
    },
    "tags": []
   },
   "outputs": [],
   "source": [
    "def model_validation(model):\n",
    "    step1 = ColumnTransformer(transformers=[\n",
    "    ('col_tnf',StandardScaler(),[0,1,2,3,4,5,6,7,8,9,10,11])],remainder='passthrough')\n",
    "    step2 = model\n",
    "    pipe = pipe = Pipeline([\n",
    "    ('step1',step1),\n",
    "    ('step2',step2)])\n",
    "    pipe.fit(X_train,y_train)\n",
    "    y_pred = pipe.predict(X_test)\n",
    "    return(float(r2_score(y_test,y_pred)),float(mean_absolute_error(y_test,y_pred)))"
   ]
  },
  {
   "cell_type": "code",
   "execution_count": 28,
   "id": "0bbc5806",
   "metadata": {
    "execution": {
     "iopub.execute_input": "2022-08-24T06:04:41.634217Z",
     "iopub.status.busy": "2022-08-24T06:04:41.633405Z",
     "iopub.status.idle": "2022-08-24T06:04:42.288327Z",
     "shell.execute_reply": "2022-08-24T06:04:42.287139Z"
    },
    "papermill": {
     "duration": 0.673727,
     "end_time": "2022-08-24T06:04:42.291453",
     "exception": false,
     "start_time": "2022-08-24T06:04:41.617726",
     "status": "completed"
    },
    "tags": []
   },
   "outputs": [],
   "source": [
    "rscore = []\n",
    "mae = []\n",
    "models = [LinearRegression(),\n",
    "          KNeighborsRegressor(n_neighbors=3),\n",
    "          DecisionTreeRegressor(max_depth=8),\n",
    "          RandomForestRegressor(),\n",
    "          SVR(kernel='linear'),\n",
    "          XGBRegressor()]\n",
    "for model in models:\n",
    "    r,m = model_validation(model)\n",
    "    rscore.append(r)\n",
    "    mae.append(m)"
   ]
  },
  {
   "cell_type": "code",
   "execution_count": 29,
   "id": "ac8c69a6",
   "metadata": {
    "execution": {
     "iopub.execute_input": "2022-08-24T06:04:42.323671Z",
     "iopub.status.busy": "2022-08-24T06:04:42.322514Z",
     "iopub.status.idle": "2022-08-24T06:04:42.328965Z",
     "shell.execute_reply": "2022-08-24T06:04:42.328149Z"
    },
    "papermill": {
     "duration": 0.023798,
     "end_time": "2022-08-24T06:04:42.331232",
     "exception": false,
     "start_time": "2022-08-24T06:04:42.307434",
     "status": "completed"
    },
    "tags": []
   },
   "outputs": [],
   "source": [
    "data = {'Regression':regressors, 'R squared':rscore,'MAE':mae}\n",
    "result = pd.DataFrame(data)"
   ]
  },
  {
   "cell_type": "markdown",
   "id": "bef6c2d2",
   "metadata": {
    "papermill": {
     "duration": 0.013559,
     "end_time": "2022-08-24T06:04:42.358788",
     "exception": false,
     "start_time": "2022-08-24T06:04:42.345229",
     "status": "completed"
    },
    "tags": []
   },
   "source": [
    "**Plotting the r squared score of various models**"
   ]
  },
  {
   "cell_type": "code",
   "execution_count": 30,
   "id": "52068a47",
   "metadata": {
    "execution": {
     "iopub.execute_input": "2022-08-24T06:04:42.389381Z",
     "iopub.status.busy": "2022-08-24T06:04:42.388473Z",
     "iopub.status.idle": "2022-08-24T06:04:42.601152Z",
     "shell.execute_reply": "2022-08-24T06:04:42.599983Z"
    },
    "papermill": {
     "duration": 0.230792,
     "end_time": "2022-08-24T06:04:42.603587",
     "exception": false,
     "start_time": "2022-08-24T06:04:42.372795",
     "status": "completed"
    },
    "tags": []
   },
   "outputs": [
    {
     "data": {
      "text/plain": [
       "<AxesSubplot:xlabel='R squared', ylabel='Regression'>"
      ]
     },
     "execution_count": 30,
     "metadata": {},
     "output_type": "execute_result"
    },
    {
     "data": {
      "image/png": "[encoded data removed]",
      "text/plain": [
       "<Figure size 432x288 with 1 Axes>"
      ]
     },
     "metadata": {
      "needs_background": "light"
     },
     "output_type": "display_data"
    }
   ],
   "source": [
    "sns.barplot(result['R squared'],result['Regression'])"
   ]
  },
  {
   "cell_type": "markdown",
   "id": "6f483c88",
   "metadata": {
    "papermill": {
     "duration": 0.013795,
     "end_time": "2022-08-24T06:04:42.631617",
     "exception": false,
     "start_time": "2022-08-24T06:04:42.617822",
     "status": "completed"
    },
    "tags": []
   },
   "source": [
    "**Plotting the mean absolute error of various models**"
   ]
  },
  {
   "cell_type": "code",
   "execution_count": 31,
   "id": "42fca9b6",
   "metadata": {
    "execution": {
     "iopub.execute_input": "2022-08-24T06:04:42.661818Z",
     "iopub.status.busy": "2022-08-24T06:04:42.661428Z",
     "iopub.status.idle": "2022-08-24T06:04:42.876378Z",
     "shell.execute_reply": "2022-08-24T06:04:42.875142Z"
    },
    "papermill": {
     "duration": 0.232872,
     "end_time": "2022-08-24T06:04:42.878754",
     "exception": false,
     "start_time": "2022-08-24T06:04:42.645882",
     "status": "completed"
    },
    "tags": []
   },
   "outputs": [
    {
     "data": {
      "text/plain": [
       "<AxesSubplot:xlabel='MAE', ylabel='Regression'>"
      ]
     },
     "execution_count": 31,
     "metadata": {},
     "output_type": "execute_result"
    },
    {
     "data": {
      "image/png": "[encoded data removed]",
      "text/plain": [
       "<Figure size 432x288 with 1 Axes>"
      ]
     },
     "metadata": {
      "needs_background": "light"
     },
     "output_type": "display_data"
    }
   ],
   "source": [
    "sns.barplot(result['MAE'],result['Regression'])"
   ]
  },
  {
   "cell_type": "code",
   "execution_count": 32,
   "id": "1c31f4dd",
   "metadata": {
    "execution": {
     "iopub.execute_input": "2022-08-24T06:04:42.910433Z",
     "iopub.status.busy": "2022-08-24T06:04:42.909258Z",
     "iopub.status.idle": "2022-08-24T06:04:42.922225Z",
     "shell.execute_reply": "2022-08-24T06:04:42.920914Z"
    },
    "papermill": {
     "duration": 0.03229,
     "end_time": "2022-08-24T06:04:42.925803",
     "exception": false,
     "start_time": "2022-08-24T06:04:42.893513",
     "status": "completed"
    },
    "tags": []
   },
   "outputs": [
    {
     "data": {
      "text/html": [
       "<div>\n",
       "<style scoped>\n",
       "    .dataframe tbody tr th:only-of-type {\n",
       "        vertical-align: middle;\n",
       "    }\n",
       "\n",
       "    .dataframe tbody tr th {\n",
       "        vertical-align: top;\n",
       "    }\n",
       "\n",
       "    .dataframe thead th {\n",
       "        text-align: right;\n",
       "    }\n",
       "</style>\n",
       "<table border=\"1\" class=\"dataframe\">\n",
       "  <thead>\n",
       "    <tr style=\"text-align: right;\">\n",
       "      <th></th>\n",
       "      <th>Regression</th>\n",
       "      <th>R squared</th>\n",
       "      <th>MAE</th>\n",
       "    </tr>\n",
       "  </thead>\n",
       "  <tbody>\n",
       "    <tr>\n",
       "      <th>0</th>\n",
       "      <td>LinearRegression</td>\n",
       "      <td>0.974707</td>\n",
       "      <td>111.354570</td>\n",
       "    </tr>\n",
       "    <tr>\n",
       "      <th>1</th>\n",
       "      <td>KNeighborsRegressor</td>\n",
       "      <td>0.958668</td>\n",
       "      <td>139.304348</td>\n",
       "    </tr>\n",
       "    <tr>\n",
       "      <th>2</th>\n",
       "      <td>DecisionTreeRegressor</td>\n",
       "      <td>0.994259</td>\n",
       "      <td>26.117787</td>\n",
       "    </tr>\n",
       "    <tr>\n",
       "      <th>3</th>\n",
       "      <td>RandomForestRegressor</td>\n",
       "      <td>0.986374</td>\n",
       "      <td>77.523478</td>\n",
       "    </tr>\n",
       "    <tr>\n",
       "      <th>4</th>\n",
       "      <td>SVR</td>\n",
       "      <td>0.810411</td>\n",
       "      <td>302.363381</td>\n",
       "    </tr>\n",
       "    <tr>\n",
       "      <th>5</th>\n",
       "      <td>XGBRegressor</td>\n",
       "      <td>0.999674</td>\n",
       "      <td>8.267504</td>\n",
       "    </tr>\n",
       "  </tbody>\n",
       "</table>\n",
       "</div>"
      ],
      "text/plain": [
       "              Regression  R squared         MAE\n",
       "0       LinearRegression   0.974707  111.354570\n",
       "1    KNeighborsRegressor   0.958668  139.304348\n",
       "2  DecisionTreeRegressor   0.994259   26.117787\n",
       "3  RandomForestRegressor   0.986374   77.523478\n",
       "4                    SVR   0.810411  302.363381\n",
       "5           XGBRegressor   0.999674    8.267504"
      ]
     },
     "execution_count": 32,
     "metadata": {},
     "output_type": "execute_result"
    }
   ],
   "source": [
    "result"
   ]
  },
  {
   "cell_type": "markdown",
   "id": "1346170d",
   "metadata": {
    "papermill": {
     "duration": 0.014471,
     "end_time": "2022-08-24T06:04:42.955041",
     "exception": false,
     "start_time": "2022-08-24T06:04:42.940570",
     "status": "completed"
    },
    "tags": []
   },
   "source": [
    "**XGBoost Regressor provides the most accurate reuslt with the least mean absolute error.**"
   ]
  }
 ],
 "metadata": {
  "kernelspec": {
   "display_name": "Python 3",
   "language": "python",
   "name": "python3"
  },
  "language_info": {
   "codemirror_mode": {
    "name": "ipython",
    "version": 3
   },
   "file_extension": ".py",
   "mimetype": "text/x-python",
   "name": "python",
   "nbconvert_exporter": "python",
   "pygments_lexer": "ipython3",
   "version": "3.7.12"
  },
  "papermill": {
   "default_parameters": {},
   "duration": 15.553465,
   "end_time": "2022-08-24T06:04:43.791736",
   "environment_variables": {},
   "exception": null,
   "input_path": "__notebook__.ipynb",
   "output_path": "__notebook__.ipynb",
   "parameters": {},
   "start_time": "2022-08-24T06:04:28.238271",
   "version": "2.3.4"
  }
 },
 "nbformat": 4,
 "nbformat_minor": 5
}
